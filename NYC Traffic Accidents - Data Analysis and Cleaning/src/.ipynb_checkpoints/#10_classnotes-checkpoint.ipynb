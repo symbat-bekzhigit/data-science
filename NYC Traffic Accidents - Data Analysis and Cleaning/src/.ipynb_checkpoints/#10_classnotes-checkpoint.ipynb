{
 "cells": [
  {
   "cell_type": "markdown",
   "id": "41af0524-a9c9-4080-aaf7-143ba330dfa8",
   "metadata": {},
   "source": [
    "# Agenda\n",
    "\n",
    "- regex\n",
    "- combining dataframes\n",
    "- another scrape example\n",
    "- working with api"
   ]
  },
  {
   "cell_type": "markdown",
   "id": "512ae35d-e350-4d0b-b7fd-8b1b5205b54b",
   "metadata": {},
   "source": [
    "**regular expression**\n",
    "\n",
    "* define a pattern to match within a string\n",
    "* most simple: match an exact substring\n",
    "* define:\n",
    "    * character classes (only digits, two consecutive digists)\n",
    "    * quantifiers (one or more, 0 or more, exact repetition)\n",
    "    * anchors (e.g. pattern starts at beggining or ends at end)"
   ]
  },
  {
   "cell_type": "markdown",
   "id": "8f329e47-868e-4531-9d66-0b11f264f695",
   "metadata": {},
   "source": [
    "**user 're' module**\n",
    "\n",
    "* 'match' - the first occur of pattern beginning from start ofnstring\n",
    "* 'search'- same as match but anywhere in the string \n",
    "* 'findall' - find all occruings of pattern\n",
    "* 'split'\n",
    "* 'replace'\n",
    "\n",
    "match object ---> represents the matches found in re:\n",
    "\n",
    "* index into it... retriev subgroup or whole match\n",
    "* truthy by default\n",
    "* most will return 'None' if nothing one\n",
    "\n",
    "\n",
    "regex possible in dataframes... 'match','contain(s)','extract'\n"
   ]
  },
  {
   "cell_type": "code",
   "execution_count": 3,
   "id": "02390a34-c42f-4859-809a-f162fd36dc50",
   "metadata": {},
   "outputs": [
    {
     "data": {
      "text/plain": [
       "'\\\\directoryName'"
      ]
     },
     "execution_count": 3,
     "metadata": {},
     "output_type": "execute_result"
    }
   ],
   "source": [
    "#rawstring\n",
    "r'\\directoryName'"
   ]
  },
  {
   "cell_type": "markdown",
   "id": "8bc5bdfa-1aba-4cb0-86dd-96cf742d71cd",
   "metadata": {},
   "source": [
    "## character classes\n",
    "\n",
    "* [abc] = match a, b, or c as a single character\n",
    "    * [bc]at .. natches bat and cat\n",
    "* [a-z] = match all lowrecase letters\n",
    "* [a-zA-Z0-9_] = match all upper/lower case etters, digitts, and underscore\n",
    "    * \\w = match a word chara ters ... same as abve ^^^\n",
    "* [0-9]... \\d = match "
   ]
  },
  {
   "cell_type": "code",
   "execution_count": 14,
   "id": "0f3042d3-8d1b-484e-9dc0-2cd4915ef6be",
   "metadata": {},
   "outputs": [
    {
     "data": {
      "text/plain": [
       "['BAN']"
      ]
     },
     "execution_count": 14,
     "metadata": {},
     "output_type": "execute_result"
    }
   ],
   "source": [
    "import re\n",
    "\n",
    "re.findall ('.an', ' a BANANA boat', flags=re.IGNORECASE)\n",
    "#give me any character followed by 'an' in string"
   ]
  },
  {
   "cell_type": "code",
   "execution_count": null,
   "id": "f263ac9b-549a-43f0-8620-ee8ac9f1199c",
   "metadata": {},
   "outputs": [],
   "source": []
  },
  {
   "cell_type": "markdown",
   "id": "ffc95179-f117-41a2-8d20-26f21ff60fb4",
   "metadata": {},
   "source": [
    "## quantifiers\n",
    "\n",
    "* '*': 0 or more repetitions\n",
    "* '+': 1 or more\n",
    "* '?': 0 or 1; changes from greedy evaluation to reluctant/lazy evaluation\n",
    "* '{2}: exactly twice"
   ]
  },
  {
   "cell_type": "code",
   "execution_count": 30,
   "id": "3130e4f1-a40f-4d54-abd2-344b8e22ac98",
   "metadata": {},
   "outputs": [
    {
     "data": {
      "text/plain": [
       "[('at', 't')]"
      ]
     },
     "execution_count": 30,
     "metadata": {},
     "output_type": "execute_result"
    }
   ],
   "source": [
    "#parentheses are used to group substrings\n",
    "\n",
    "n = re.findall('o(a(t))', 'banana boat')\n",
    "n"
   ]
  },
  {
   "cell_type": "code",
   "execution_count": 26,
   "id": "f3a21ab2-9d54-4c39-9d44-8d39f969f1fd",
   "metadata": {},
   "outputs": [
    {
     "data": {
      "text/plain": [
       "('at', 't')"
      ]
     },
     "execution_count": 26,
     "metadata": {},
     "output_type": "execute_result"
    }
   ],
   "source": [
    "n[0]"
   ]
  },
  {
   "cell_type": "code",
   "execution_count": 28,
   "id": "799d6e7d-e8e0-4919-8992-b248aa36e945",
   "metadata": {},
   "outputs": [
    {
     "ename": "IndexError",
     "evalue": "list index out of range",
     "output_type": "error",
     "traceback": [
      "\u001b[0;31m---------------------------------------------------------------------------\u001b[0m",
      "\u001b[0;31mIndexError\u001b[0m                                Traceback (most recent call last)",
      "\u001b[0;32m/var/folders/sq/dgvlcrmx1z72615mk9_6lf940000gn/T/ipykernel_85262/456199704.py\u001b[0m in \u001b[0;36m<module>\u001b[0;34m\u001b[0m\n\u001b[0;32m----> 1\u001b[0;31m \u001b[0mn\u001b[0m\u001b[0;34m[\u001b[0m\u001b[0;36m2\u001b[0m\u001b[0;34m]\u001b[0m\u001b[0;34m\u001b[0m\u001b[0;34m\u001b[0m\u001b[0m\n\u001b[0m",
      "\u001b[0;31mIndexError\u001b[0m: list index out of range"
     ]
    }
   ],
   "source": [
    "n[2]"
   ]
  },
  {
   "cell_type": "code",
   "execution_count": null,
   "id": "c9c1a981-8781-4165-abe4-16a0108ce9d1",
   "metadata": {},
   "outputs": [],
   "source": []
  },
  {
   "cell_type": "markdown",
   "id": "a5b7f78e-624e-4672-b69a-4c44972ec31e",
   "metadata": {},
   "source": [
    "## dataframe\n",
    "\n",
    "* 'match':\n",
    "* 'contains' : sabe as above, but anywhere in the string\n",
    "* 'extract': extract a substring based pattern/group from string value in Series\n"
   ]
  },
  {
   "cell_type": "code",
   "execution_count": null,
   "id": "a9f923e5-88e3-4fab-b216-fd1906d97ea9",
   "metadata": {},
   "outputs": [],
   "source": []
  },
  {
   "cell_type": "markdown",
   "id": "7378d570-4833-4caa-a123-a407ac77bddb",
   "metadata": {},
   "source": [
    "how =''\n",
    "\n",
    "* inner = only include rows where values in this col is the same\n",
    "* outer = \n",
    "* \n",
    "* "
   ]
  },
  {
   "cell_type": "code",
   "execution_count": null,
   "id": "aa2cb206-af00-4e31-a20f-9d1a5c4eea0f",
   "metadata": {},
   "outputs": [],
   "source": []
  },
  {
   "cell_type": "code",
   "execution_count": 31,
   "id": "12036689-cb34-4274-aef5-6cd1496ae26e",
   "metadata": {},
   "outputs": [],
   "source": [
    "import requests\n",
    "from bs4 import BeautifulSoup"
   ]
  },
  {
   "cell_type": "code",
   "execution_count": 33,
   "id": "e808d5a1-5c47-4b87-bc1b-e04b064c99a7",
   "metadata": {},
   "outputs": [],
   "source": [
    "res= requests.get('https://en.wikipedia.org/wiki/List_of_largest_cities')"
   ]
  },
  {
   "cell_type": "code",
   "execution_count": 34,
   "id": "301475e5-f62f-4258-9fab-b348a2747e94",
   "metadata": {},
   "outputs": [
    {
     "data": {
      "text/plain": [
       "<Response [200]>"
      ]
     },
     "execution_count": 34,
     "metadata": {},
     "output_type": "execute_result"
    }
   ],
   "source": [
    "dom = BeautifulSoup()"
   ]
  },
  {
   "cell_type": "code",
   "execution_count": 37,
   "id": "7c5a7b2e-5a9b-4f98-912b-93ac95cf3d1e",
   "metadata": {},
   "outputs": [],
   "source": [
    "#fast way\n",
    "\n",
    "import pandas as pd\n",
    "\n",
    "tables = pd.read_html('https://en.wikipedia.org/wiki/List_of_largest_cities')"
   ]
  },
  {
   "cell_type": "code",
   "execution_count": 38,
   "id": "28175f06-83f3-4aef-af67-5cdddd6722e4",
   "metadata": {},
   "outputs": [
    {
     "data": {
      "text/plain": [
       "[                                            Ekistics\n",
       " 0  List of largest cities List of cities proper b...\n",
       " 1                                      Cities portal\n",
       " 2  .mw-parser-output .navbar{display:inline;font-...,\n",
       "         City[a]        Country UN 2018 population estimates[b]  \\\n",
       "         City[a]        Country UN 2018 population estimates[b]   \n",
       " 0           NaN            NaN                             NaN   \n",
       " 1         Tokyo          Japan                      37468000.0   \n",
       " 2         Delhi          India                      28514000.0   \n",
       " 3      Shanghai          China                      25582000.0   \n",
       " 4     São Paulo         Brazil                      21650000.0   \n",
       " ..          ...            ...                             ...   \n",
       " 77   Washington  United States                       5207000.0   \n",
       " 78       Yangon        Myanmar                       5157000.0   \n",
       " 79   Alexandria          Egypt                       5086000.0   \n",
       " 80        Jinan          China                       5052000.0   \n",
       " 81  Guadalajara         Mexico                       5023000.0   \n",
       " \n",
       "            City proper[c]             \\\n",
       "                Definition Population   \n",
       " 0                     NaN        NaN   \n",
       " 1   Metropolis prefecture   13515271   \n",
       " 2   Municipal corporation   16753235   \n",
       " 3            Municipality   24870895   \n",
       " 4            Municipality   12252023   \n",
       " ..                    ...        ...   \n",
       " 77       Federal district     702455   \n",
       " 78                   City          —   \n",
       " 79      Urban governorate          —   \n",
       " 80  City (sub-provincial)    8700000   \n",
       " 81           Municipality    1385621   \n",
       " \n",
       "                                                                           \\\n",
       "    Area.mw-parser-output .nobold{font-weight:normal}(km2)  Density(/km2)   \n",
       " 0                                                 NaN                NaN   \n",
       " 1                                                2191          6,169[13]   \n",
       " 2                                                1484         11,289[15]   \n",
       " 3                                                6341      3,922[17][18]   \n",
       " 4                                                1521          8,055[19]   \n",
       " ..                                                ...                ...   \n",
       " 77                                                177          3,969[29]   \n",
       " 78                                                  —                  —   \n",
       " 79                                                  —                  —   \n",
       " 80                                              10244                849   \n",
       " 81                                                151          9,176[21]   \n",
       " \n",
       "    Urban area[8]                         Metropolitan area[d]            \\\n",
       "       Population Area(km2) Density(/km2)           Population Area(km2)   \n",
       " 0            NaN       NaN           NaN                  NaN       NaN   \n",
       " 1       37732000      8231      4,584[e]             37274000     13452   \n",
       " 2       32226000      2344     13,748[f]             29000000      3483   \n",
       " 3       24073000      4333      5,556[g]                    —         —   \n",
       " 4       23086000      3649      6,327[h]             21734682      7947   \n",
       " ..           ...       ...           ...                  ...       ...   \n",
       " 77       7631000      5501      1,387[s]              6263245     17009   \n",
       " 78       6874000       666         10321                    —         —   \n",
       " 79       4712000       293         16082                    —         —   \n",
       " 80       4017000       932          4310                    —         —   \n",
       " 81       5525000       816          6771              5286642      3560   \n",
       " \n",
       "                   \n",
       "    Density(/km2)  \n",
       " 0            NaN  \n",
       " 1      2,771[14]  \n",
       " 2      8,326[16]  \n",
       " 3              —  \n",
       " 4      2,735[20]  \n",
       " ..           ...  \n",
       " 77       368[95]  \n",
       " 78             —  \n",
       " 79             —  \n",
       " 80             —  \n",
       " 81          1485  \n",
       " \n",
       " [82 rows x 13 columns],\n",
       "       vteWorld's largest cities  \\\n",
       " 0                   City proper   \n",
       " 1             Metropolitan area   \n",
       " 2      Urban area/agglomeration   \n",
       " 3                    Historical   \n",
       " 4              Related articles   \n",
       " 5  Cities portal • World portal   \n",
       " \n",
       "                          vteWorld's largest cities.1  \n",
       " 0  Capitals Africa Americas (North Latin Central ...  \n",
       " 1  Americas (North South West Indies) Europe (Eur...  \n",
       " 2  Asia Africa Europe European Union Nordic North...  \n",
       " 3                                       World Europe  \n",
       " 4  Arcology Ecumenopolis Global city Megacity Meg...  \n",
       " 5                       Cities portal • World portal  ,\n",
       "           vteCities                                        vteCities.1\n",
       " 0   Urban geography  Urban area City centre Downtown Suburb Exurb C...\n",
       " 1  Urban government  City status Municipality direct-controlled Ind...\n",
       " 2   Urban economics  World's cities by GDP Global city Central busi...\n",
       " 3    Urban planning  History of urban planning Theories of urban pl...\n",
       " 4  Urban population  World's largest cities throughout history Most...\n",
       " 5          Urbanism  Urban warfare Urban studies Urban morphology U...\n",
       " 6       Environment  Climate change Green urbanism Sustainable city...\n",
       " 7     Cities portal                                      Cities portal]"
      ]
     },
     "execution_count": 38,
     "metadata": {},
     "output_type": "execute_result"
    }
   ],
   "source": [
    "tables"
   ]
  },
  {
   "cell_type": "code",
   "execution_count": null,
   "id": "ff832b1f-fa90-40b0-8c17-46c1ecd7a180",
   "metadata": {},
   "outputs": [],
   "source": []
  }
 ],
 "metadata": {
  "kernelspec": {
   "display_name": "Python 3 (ipykernel)",
   "language": "python",
   "name": "python3"
  },
  "language_info": {
   "codemirror_mode": {
    "name": "ipython",
    "version": 3
   },
   "file_extension": ".py",
   "mimetype": "text/x-python",
   "name": "python",
   "nbconvert_exporter": "python",
   "pygments_lexer": "ipython3",
   "version": "3.9.13"
  }
 },
 "nbformat": 4,
 "nbformat_minor": 5
}
