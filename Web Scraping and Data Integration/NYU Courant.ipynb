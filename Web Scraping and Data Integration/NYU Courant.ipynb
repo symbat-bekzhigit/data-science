{
 "cells": [
  {
   "cell_type": "markdown",
   "metadata": {},
   "source": [
    "# 1. Read the course schedule into a DataFrame"
   ]
  },
  {
   "cell_type": "code",
   "execution_count": 1,
   "metadata": {},
   "outputs": [],
   "source": [
    "from bs4 import BeautifulSoup\n",
    "\n",
    "# Load the HTML file\n",
    "with open('course_schedule.html', 'r') as file:\n",
    "    html_content = file.read()\n",
    "    \n",
    "# Create a BeautifulSoup object\n",
    "dom = BeautifulSoup(html_content, \"html.parser\")"
   ]
  },
  {
   "cell_type": "markdown",
   "metadata": {},
   "source": [
    "### 1. Extract Number-Section information for each course"
   ]
  },
  {
   "cell_type": "markdown",
   "metadata": {},
   "source": [
    "Let's check how many total courses we have:"
   ]
  },
  {
   "cell_type": "code",
   "execution_count": 2,
   "metadata": {},
   "outputs": [],
   "source": [
    "all_li = dom.select('.schedule-listing > .row')"
   ]
  },
  {
   "cell_type": "code",
   "execution_count": 3,
   "metadata": {},
   "outputs": [
    {
     "data": {
      "text/plain": [
       "175"
      ]
     },
     "execution_count": 3,
     "metadata": {},
     "output_type": "execute_result"
    }
   ],
   "source": [
    "len(all_li)"
   ]
  },
  {
   "cell_type": "markdown",
   "metadata": {},
   "source": [
    "Let's now extract all the section numbers:"
   ]
  },
  {
   "cell_type": "code",
   "execution_count": 4,
   "metadata": {},
   "outputs": [],
   "source": [
    "my_a = dom.select('.schedule-listing div > span')"
   ]
  },
  {
   "cell_type": "code",
   "execution_count": 5,
   "metadata": {},
   "outputs": [],
   "source": [
    "import re\n",
    "\n",
    "section_names = list()\n",
    "\n",
    "for a in my_a:\n",
    "    text = a.get_text().strip()\n",
    "    \n",
    "    #search for the pattern that starts with 'CSCI-GA...' or 'CSCI-UA'\n",
    "    #some courses may have more than one course number, in that case, we will get just the first one (i.e.the main one that starts with 'CSCI...' \n",
    "    section = re.search('CSCI-[G,U]A\\.\\d{4}\\-.+',text)\n",
    "    if section:\n",
    "        #get rid of the invizible space character\n",
    "        section_names.append(section[0].replace('\\u200b', ''))\n",
    "        "
   ]
  },
  {
   "cell_type": "code",
   "execution_count": 6,
   "metadata": {},
   "outputs": [
    {
     "data": {
      "text/plain": [
       "175"
      ]
     },
     "execution_count": 6,
     "metadata": {},
     "output_type": "execute_result"
    }
   ],
   "source": [
    "len(section_names)"
   ]
  },
  {
   "cell_type": "markdown",
   "metadata": {},
   "source": [
    "- We can see that the number of rows in the ul.class_schedule which is equivalent to the total number of courses matches the length of the sections list we got, meaning that we extracted the sections numbers of each course succesfully\n",
    "- Some courses may have more than one course number. Usually, the second course numbers indicate that that particular course can be double-counted as the course from other department, and they have a different pattern than 'CSCI...'. Therfore, since we're focusing only on CS department's courses, we will get just the first course number (i.e. the one that starts with 'CSCI...') because that should be the the main one.  \n",
    " "
   ]
  },
  {
   "cell_type": "markdown",
   "metadata": {},
   "source": [
    "### 2. Using a similar logic, extract other columns "
   ]
  },
  {
   "cell_type": "markdown",
   "metadata": {},
   "source": [
    "a. Extract course names"
   ]
  },
  {
   "cell_type": "code",
   "execution_count": 7,
   "metadata": {},
   "outputs": [],
   "source": [
    "span_courses = dom.select('.schedule-listing > li span:nth-child(2)')"
   ]
  },
  {
   "cell_type": "code",
   "execution_count": 8,
   "metadata": {},
   "outputs": [],
   "source": [
    "course_names = list()\n",
    "\n",
    "for name in span_courses:\n",
    "    course_name = name.get_text().strip()\n",
    "    \n",
    "    #replace trailing newline character and space characters in between strings with a space\n",
    "    course_name = re.sub(r'\\n\\s+', ' ', course_name)\n",
    "    course_names.append(course_name)\n",
    "    "
   ]
  },
  {
   "cell_type": "code",
   "execution_count": 9,
   "metadata": {},
   "outputs": [
    {
     "data": {
      "text/plain": [
       "175"
      ]
     },
     "execution_count": 9,
     "metadata": {},
     "output_type": "execute_result"
    }
   ],
   "source": [
    "len(course_names)"
   ]
  },
  {
   "cell_type": "markdown",
   "metadata": {},
   "source": [
    "- Some course names have trailing newline character and space characters in between strings, we will replace them with a space"
   ]
  },
  {
   "cell_type": "markdown",
   "metadata": {},
   "source": [
    "b. Extract instructor names"
   ]
  },
  {
   "cell_type": "code",
   "execution_count": 10,
   "metadata": {},
   "outputs": [],
   "source": [
    "span_instructors = dom.select('.schedule-listing > li span:nth-child(3)')"
   ]
  },
  {
   "cell_type": "code",
   "execution_count": 11,
   "metadata": {},
   "outputs": [],
   "source": [
    "instructor_names = list()\n",
    "\n",
    "for instructor in span_instructors:\n",
    "    instructor_name = instructor.get_text().strip()\n",
    "    \n",
    "    instructor_name = instructor_name.strip().replace('\\n', ';')\n",
    "    \n",
    "    #if the course has 2+ instructor names, we will concatenate the names in one string using comma as a separator after each full name\n",
    "    if ';' in instructor_name:\n",
    "        \n",
    "        #replace ; with empty space\n",
    "        instructor_name = re.sub(r'[; ]+', ' ', instructor_name).strip()\n",
    "        \n",
    "        #split the string into a list of names\n",
    "        names_list = instructor_name.split()\n",
    "\n",
    "        #create a list with full names\n",
    "        full_names = [f\"{names_list[i]} {names_list[i + 1]}\" for i in range(0, len(names_list), 2)]\n",
    "\n",
    "        #join the full names with commas\n",
    "        result_string = ', '.join(full_names)\n",
    "        instructor_names.append(result_string) \n",
    "        \n",
    "    else:\n",
    "        instructor_names.append(instructor_name) \n",
    "        "
   ]
  },
  {
   "cell_type": "code",
   "execution_count": 12,
   "metadata": {},
   "outputs": [
    {
     "data": {
      "text/plain": [
       "175"
      ]
     },
     "execution_count": 12,
     "metadata": {},
     "output_type": "execute_result"
    }
   ],
   "source": [
    "len(instructor_names)"
   ]
  },
  {
   "cell_type": "markdown",
   "metadata": {},
   "source": [
    "- Some courses have more than one instructors, in that case, we will concatenate the names in one string using comma as a separator after each full name. We would want all the entries in the column 'instructor name' of the dataframe later to beof the same type, so instead of making a of strings for 2+ isntructor names, adding all the isntructors in one string sepprarated by comma could be more efficient. Moreover, it could also later facilitate the process of finding the number of courses each instructor teaches, for example."
   ]
  },
  {
   "cell_type": "markdown",
   "metadata": {},
   "source": [
    "c. Extract meeting times"
   ]
  },
  {
   "cell_type": "code",
   "execution_count": 13,
   "metadata": {},
   "outputs": [],
   "source": [
    "span_times = dom.select('.schedule-listing > li span:nth-child(4)')"
   ]
  },
  {
   "cell_type": "code",
   "execution_count": 14,
   "metadata": {},
   "outputs": [],
   "source": [
    "meeting_times = list()\n",
    "\n",
    "for time in span_times:\n",
    "    meeting_time = time.get_text().strip()\n",
    "    meeting_times.append(meeting_time)\n",
    "    "
   ]
  },
  {
   "cell_type": "code",
   "execution_count": 15,
   "metadata": {},
   "outputs": [
    {
     "data": {
      "text/plain": [
       "175"
      ]
     },
     "execution_count": 15,
     "metadata": {},
     "output_type": "execute_result"
    }
   ],
   "source": [
    "len(meeting_times)"
   ]
  },
  {
   "cell_type": "markdown",
   "metadata": {},
   "source": [
    "### 3. Now, let's create a DataFrame object"
   ]
  },
  {
   "cell_type": "code",
   "execution_count": 25,
   "metadata": {},
   "outputs": [],
   "source": [
    "import pandas as pd\n",
    "\n",
    "\n",
    "# the list 'data' contains number-section, course names, instructors, and times in this order, respectively\n",
    "data = zip(section_names,course_names,instructor_names,meeting_times)\n",
    "columns = ['Number-Section','Name','Instructor','Time']"
   ]
  },
  {
   "cell_type": "code",
   "execution_count": 26,
   "metadata": {},
   "outputs": [],
   "source": [
    "df = pd.DataFrame(data, columns = columns)"
   ]
  },
  {
   "cell_type": "code",
   "execution_count": 27,
   "metadata": {},
   "outputs": [
    {
     "data": {
      "text/html": [
       "<div>\n",
       "<style scoped>\n",
       "    .dataframe tbody tr th:only-of-type {\n",
       "        vertical-align: middle;\n",
       "    }\n",
       "\n",
       "    .dataframe tbody tr th {\n",
       "        vertical-align: top;\n",
       "    }\n",
       "\n",
       "    .dataframe thead th {\n",
       "        text-align: right;\n",
       "    }\n",
       "</style>\n",
       "<table border=\"1\" class=\"dataframe\">\n",
       "  <thead>\n",
       "    <tr style=\"text-align: right;\">\n",
       "      <th></th>\n",
       "      <th>Number-Section</th>\n",
       "      <th>Name</th>\n",
       "      <th>Instructor</th>\n",
       "      <th>Time</th>\n",
       "    </tr>\n",
       "  </thead>\n",
       "  <tbody>\n",
       "    <tr>\n",
       "      <th>0</th>\n",
       "      <td>CSCI-GA.1133-001</td>\n",
       "      <td>PAC I*</td>\n",
       "      <td>CANCELLED</td>\n",
       "      <td>-</td>\n",
       "    </tr>\n",
       "    <tr>\n",
       "      <th>1</th>\n",
       "      <td>CSCI-GA.1133-002</td>\n",
       "      <td>PAC I Recitation</td>\n",
       "      <td>CANCELLED</td>\n",
       "      <td>-</td>\n",
       "    </tr>\n",
       "    <tr>\n",
       "      <th>2</th>\n",
       "      <td>CSCI-GA.1170-001</td>\n",
       "      <td>Fundamental Algorithms</td>\n",
       "      <td>Yevgeniy Dodis</td>\n",
       "      <td>T 4:55-6:55PM</td>\n",
       "    </tr>\n",
       "    <tr>\n",
       "      <th>3</th>\n",
       "      <td>CSCI-GA.1170-002</td>\n",
       "      <td>Fundamental Algorithms Recitation</td>\n",
       "      <td>Peter Hall</td>\n",
       "      <td>R 5:55-6:45PM</td>\n",
       "    </tr>\n",
       "    <tr>\n",
       "      <th>4</th>\n",
       "      <td>CSCI-GA.1170-003</td>\n",
       "      <td>Fundamental Algorithms</td>\n",
       "      <td>Ernest Davis</td>\n",
       "      <td>T 4:55-6:55PM</td>\n",
       "    </tr>\n",
       "    <tr>\n",
       "      <th>...</th>\n",
       "      <td>...</td>\n",
       "      <td>...</td>\n",
       "      <td>...</td>\n",
       "      <td>...</td>\n",
       "    </tr>\n",
       "    <tr>\n",
       "      <th>170</th>\n",
       "      <td>CSCI-UA.0480-069</td>\n",
       "      <td>Special Topics: Agile Software Development and...</td>\n",
       "      <td>Amos Bloomberg</td>\n",
       "      <td>TR 12:30-1:45PM</td>\n",
       "    </tr>\n",
       "    <tr>\n",
       "      <th>171</th>\n",
       "      <td>CSCI-UA.0480-073</td>\n",
       "      <td>Special Topics: Introduction to Robot Intellig...</td>\n",
       "      <td>Lerrel Pinto</td>\n",
       "      <td>TR 3:30-4:45PM</td>\n",
       "    </tr>\n",
       "    <tr>\n",
       "      <th>172</th>\n",
       "      <td>CSCI-UA.0520-001</td>\n",
       "      <td>Undergraduate Research</td>\n",
       "      <td>STAFF</td>\n",
       "      <td>-</td>\n",
       "    </tr>\n",
       "    <tr>\n",
       "      <th>173</th>\n",
       "      <td>CSCI-UA.0897-001</td>\n",
       "      <td>Internship</td>\n",
       "      <td>STAFF</td>\n",
       "      <td>-</td>\n",
       "    </tr>\n",
       "    <tr>\n",
       "      <th>174</th>\n",
       "      <td>CSCI-UA.0997-001</td>\n",
       "      <td>Independent Study</td>\n",
       "      <td>STAFF</td>\n",
       "      <td>-</td>\n",
       "    </tr>\n",
       "  </tbody>\n",
       "</table>\n",
       "<p>175 rows × 4 columns</p>\n",
       "</div>"
      ],
      "text/plain": [
       "       Number-Section                                               Name  \\\n",
       "0    CSCI-GA.1133-001                                             PAC I*   \n",
       "1    CSCI-GA.1133-002                                   PAC I Recitation   \n",
       "2    CSCI-GA.1170-001                             Fundamental Algorithms   \n",
       "3    CSCI-GA.1170-002                  Fundamental Algorithms Recitation   \n",
       "4    CSCI-GA.1170-003                             Fundamental Algorithms   \n",
       "..                ...                                                ...   \n",
       "170  CSCI-UA.0480-069  Special Topics: Agile Software Development and...   \n",
       "171  CSCI-UA.0480-073  Special Topics: Introduction to Robot Intellig...   \n",
       "172  CSCI-UA.0520-001                             Undergraduate Research   \n",
       "173  CSCI-UA.0897-001                                         Internship   \n",
       "174  CSCI-UA.0997-001                                  Independent Study   \n",
       "\n",
       "         Instructor             Time  \n",
       "0         CANCELLED                -  \n",
       "1         CANCELLED                -  \n",
       "2    Yevgeniy Dodis    T 4:55-6:55PM  \n",
       "3        Peter Hall    R 5:55-6:45PM  \n",
       "4      Ernest Davis    T 4:55-6:55PM  \n",
       "..              ...              ...  \n",
       "170  Amos Bloomberg  TR 12:30-1:45PM  \n",
       "171    Lerrel Pinto   TR 3:30-4:45PM  \n",
       "172           STAFF                -  \n",
       "173           STAFF                -  \n",
       "174           STAFF                -  \n",
       "\n",
       "[175 rows x 4 columns]"
      ]
     },
     "execution_count": 27,
     "metadata": {},
     "output_type": "execute_result"
    }
   ],
   "source": [
    "df"
   ]
  },
  {
   "cell_type": "markdown",
   "metadata": {},
   "source": [
    "**a. Break apart the Number-Section column into two separate columns: Number and Section**"
   ]
  },
  {
   "cell_type": "code",
   "execution_count": 28,
   "metadata": {},
   "outputs": [],
   "source": [
    "section_separated = df['Number-Section'].str.extract('(CSCI\\-\\w{2}.+)-(\\d+)')"
   ]
  },
  {
   "cell_type": "code",
   "execution_count": 29,
   "metadata": {},
   "outputs": [
    {
     "data": {
      "text/html": [
       "<div>\n",
       "<style scoped>\n",
       "    .dataframe tbody tr th:only-of-type {\n",
       "        vertical-align: middle;\n",
       "    }\n",
       "\n",
       "    .dataframe tbody tr th {\n",
       "        vertical-align: top;\n",
       "    }\n",
       "\n",
       "    .dataframe thead th {\n",
       "        text-align: right;\n",
       "    }\n",
       "</style>\n",
       "<table border=\"1\" class=\"dataframe\">\n",
       "  <thead>\n",
       "    <tr style=\"text-align: right;\">\n",
       "      <th></th>\n",
       "      <th>0</th>\n",
       "      <th>1</th>\n",
       "    </tr>\n",
       "  </thead>\n",
       "  <tbody>\n",
       "    <tr>\n",
       "      <th>0</th>\n",
       "      <td>CSCI-GA.1133</td>\n",
       "      <td>001</td>\n",
       "    </tr>\n",
       "    <tr>\n",
       "      <th>1</th>\n",
       "      <td>CSCI-GA.1133</td>\n",
       "      <td>002</td>\n",
       "    </tr>\n",
       "    <tr>\n",
       "      <th>2</th>\n",
       "      <td>CSCI-GA.1170</td>\n",
       "      <td>001</td>\n",
       "    </tr>\n",
       "    <tr>\n",
       "      <th>3</th>\n",
       "      <td>CSCI-GA.1170</td>\n",
       "      <td>002</td>\n",
       "    </tr>\n",
       "    <tr>\n",
       "      <th>4</th>\n",
       "      <td>CSCI-GA.1170</td>\n",
       "      <td>003</td>\n",
       "    </tr>\n",
       "    <tr>\n",
       "      <th>...</th>\n",
       "      <td>...</td>\n",
       "      <td>...</td>\n",
       "    </tr>\n",
       "    <tr>\n",
       "      <th>170</th>\n",
       "      <td>CSCI-UA.0480</td>\n",
       "      <td>069</td>\n",
       "    </tr>\n",
       "    <tr>\n",
       "      <th>171</th>\n",
       "      <td>CSCI-UA.0480</td>\n",
       "      <td>073</td>\n",
       "    </tr>\n",
       "    <tr>\n",
       "      <th>172</th>\n",
       "      <td>CSCI-UA.0520</td>\n",
       "      <td>001</td>\n",
       "    </tr>\n",
       "    <tr>\n",
       "      <th>173</th>\n",
       "      <td>CSCI-UA.0897</td>\n",
       "      <td>001</td>\n",
       "    </tr>\n",
       "    <tr>\n",
       "      <th>174</th>\n",
       "      <td>CSCI-UA.0997</td>\n",
       "      <td>001</td>\n",
       "    </tr>\n",
       "  </tbody>\n",
       "</table>\n",
       "<p>175 rows × 2 columns</p>\n",
       "</div>"
      ],
      "text/plain": [
       "                0    1\n",
       "0    CSCI-GA.1133  001\n",
       "1    CSCI-GA.1133  002\n",
       "2    CSCI-GA.1170  001\n",
       "3    CSCI-GA.1170  002\n",
       "4    CSCI-GA.1170  003\n",
       "..            ...  ...\n",
       "170  CSCI-UA.0480  069\n",
       "171  CSCI-UA.0480  073\n",
       "172  CSCI-UA.0520  001\n",
       "173  CSCI-UA.0897  001\n",
       "174  CSCI-UA.0997  001\n",
       "\n",
       "[175 rows x 2 columns]"
      ]
     },
     "execution_count": 29,
     "metadata": {},
     "output_type": "execute_result"
    }
   ],
   "source": [
    "section_separated"
   ]
  },
  {
   "cell_type": "code",
   "execution_count": 30,
   "metadata": {},
   "outputs": [],
   "source": [
    "#delete the Number-Section column as we no longer need it (Number and Secgion columns contain the same information now)\n",
    "del df['Number-Section']"
   ]
  },
  {
   "cell_type": "code",
   "execution_count": 31,
   "metadata": {},
   "outputs": [],
   "source": [
    "#add the new columns to the dataframe df\n",
    "df[['Number', 'Section']] = section_separated"
   ]
  },
  {
   "cell_type": "code",
   "execution_count": 32,
   "metadata": {},
   "outputs": [
    {
     "data": {
      "text/html": [
       "<div>\n",
       "<style scoped>\n",
       "    .dataframe tbody tr th:only-of-type {\n",
       "        vertical-align: middle;\n",
       "    }\n",
       "\n",
       "    .dataframe tbody tr th {\n",
       "        vertical-align: top;\n",
       "    }\n",
       "\n",
       "    .dataframe thead th {\n",
       "        text-align: right;\n",
       "    }\n",
       "</style>\n",
       "<table border=\"1\" class=\"dataframe\">\n",
       "  <thead>\n",
       "    <tr style=\"text-align: right;\">\n",
       "      <th></th>\n",
       "      <th>Name</th>\n",
       "      <th>Instructor</th>\n",
       "      <th>Time</th>\n",
       "      <th>Number</th>\n",
       "      <th>Section</th>\n",
       "    </tr>\n",
       "  </thead>\n",
       "  <tbody>\n",
       "    <tr>\n",
       "      <th>0</th>\n",
       "      <td>PAC I*</td>\n",
       "      <td>CANCELLED</td>\n",
       "      <td>-</td>\n",
       "      <td>CSCI-GA.1133</td>\n",
       "      <td>001</td>\n",
       "    </tr>\n",
       "    <tr>\n",
       "      <th>1</th>\n",
       "      <td>PAC I Recitation</td>\n",
       "      <td>CANCELLED</td>\n",
       "      <td>-</td>\n",
       "      <td>CSCI-GA.1133</td>\n",
       "      <td>002</td>\n",
       "    </tr>\n",
       "    <tr>\n",
       "      <th>2</th>\n",
       "      <td>Fundamental Algorithms</td>\n",
       "      <td>Yevgeniy Dodis</td>\n",
       "      <td>T 4:55-6:55PM</td>\n",
       "      <td>CSCI-GA.1170</td>\n",
       "      <td>001</td>\n",
       "    </tr>\n",
       "    <tr>\n",
       "      <th>3</th>\n",
       "      <td>Fundamental Algorithms Recitation</td>\n",
       "      <td>Peter Hall</td>\n",
       "      <td>R 5:55-6:45PM</td>\n",
       "      <td>CSCI-GA.1170</td>\n",
       "      <td>002</td>\n",
       "    </tr>\n",
       "    <tr>\n",
       "      <th>4</th>\n",
       "      <td>Fundamental Algorithms</td>\n",
       "      <td>Ernest Davis</td>\n",
       "      <td>T 4:55-6:55PM</td>\n",
       "      <td>CSCI-GA.1170</td>\n",
       "      <td>003</td>\n",
       "    </tr>\n",
       "    <tr>\n",
       "      <th>...</th>\n",
       "      <td>...</td>\n",
       "      <td>...</td>\n",
       "      <td>...</td>\n",
       "      <td>...</td>\n",
       "      <td>...</td>\n",
       "    </tr>\n",
       "    <tr>\n",
       "      <th>170</th>\n",
       "      <td>Special Topics: Agile Software Development and...</td>\n",
       "      <td>Amos Bloomberg</td>\n",
       "      <td>TR 12:30-1:45PM</td>\n",
       "      <td>CSCI-UA.0480</td>\n",
       "      <td>069</td>\n",
       "    </tr>\n",
       "    <tr>\n",
       "      <th>171</th>\n",
       "      <td>Special Topics: Introduction to Robot Intellig...</td>\n",
       "      <td>Lerrel Pinto</td>\n",
       "      <td>TR 3:30-4:45PM</td>\n",
       "      <td>CSCI-UA.0480</td>\n",
       "      <td>073</td>\n",
       "    </tr>\n",
       "    <tr>\n",
       "      <th>172</th>\n",
       "      <td>Undergraduate Research</td>\n",
       "      <td>STAFF</td>\n",
       "      <td>-</td>\n",
       "      <td>CSCI-UA.0520</td>\n",
       "      <td>001</td>\n",
       "    </tr>\n",
       "    <tr>\n",
       "      <th>173</th>\n",
       "      <td>Internship</td>\n",
       "      <td>STAFF</td>\n",
       "      <td>-</td>\n",
       "      <td>CSCI-UA.0897</td>\n",
       "      <td>001</td>\n",
       "    </tr>\n",
       "    <tr>\n",
       "      <th>174</th>\n",
       "      <td>Independent Study</td>\n",
       "      <td>STAFF</td>\n",
       "      <td>-</td>\n",
       "      <td>CSCI-UA.0997</td>\n",
       "      <td>001</td>\n",
       "    </tr>\n",
       "  </tbody>\n",
       "</table>\n",
       "<p>175 rows × 5 columns</p>\n",
       "</div>"
      ],
      "text/plain": [
       "                                                  Name      Instructor  \\\n",
       "0                                               PAC I*       CANCELLED   \n",
       "1                                     PAC I Recitation       CANCELLED   \n",
       "2                               Fundamental Algorithms  Yevgeniy Dodis   \n",
       "3                    Fundamental Algorithms Recitation      Peter Hall   \n",
       "4                               Fundamental Algorithms    Ernest Davis   \n",
       "..                                                 ...             ...   \n",
       "170  Special Topics: Agile Software Development and...  Amos Bloomberg   \n",
       "171  Special Topics: Introduction to Robot Intellig...    Lerrel Pinto   \n",
       "172                             Undergraduate Research           STAFF   \n",
       "173                                         Internship           STAFF   \n",
       "174                                  Independent Study           STAFF   \n",
       "\n",
       "                Time        Number Section  \n",
       "0                  -  CSCI-GA.1133     001  \n",
       "1                  -  CSCI-GA.1133     002  \n",
       "2      T 4:55-6:55PM  CSCI-GA.1170     001  \n",
       "3      R 5:55-6:45PM  CSCI-GA.1170     002  \n",
       "4      T 4:55-6:55PM  CSCI-GA.1170     003  \n",
       "..               ...           ...     ...  \n",
       "170  TR 12:30-1:45PM  CSCI-UA.0480     069  \n",
       "171   TR 3:30-4:45PM  CSCI-UA.0480     073  \n",
       "172                -  CSCI-UA.0520     001  \n",
       "173                -  CSCI-UA.0897     001  \n",
       "174                -  CSCI-UA.0997     001  \n",
       "\n",
       "[175 rows x 5 columns]"
      ]
     },
     "execution_count": 32,
     "metadata": {},
     "output_type": "execute_result"
    }
   ],
   "source": [
    "df"
   ]
  },
  {
   "cell_type": "markdown",
   "metadata": {},
   "source": [
    "**b. Show some dataframe information**"
   ]
  },
  {
   "cell_type": "code",
   "execution_count": 33,
   "metadata": {},
   "outputs": [
    {
     "name": "stdout",
     "output_type": "stream",
     "text": [
      "<class 'pandas.core.frame.DataFrame'>\n",
      "RangeIndex: 175 entries, 0 to 174\n",
      "Data columns (total 5 columns):\n",
      " #   Column      Non-Null Count  Dtype \n",
      "---  ------      --------------  ----- \n",
      " 0   Name        175 non-null    object\n",
      " 1   Instructor  175 non-null    object\n",
      " 2   Time        175 non-null    object\n",
      " 3   Number      175 non-null    object\n",
      " 4   Section     175 non-null    object\n",
      "dtypes: object(5)\n",
      "memory usage: 7.0+ KB\n"
     ]
    }
   ],
   "source": [
    "#show info about the data types and counts\n",
    "df.info()"
   ]
  },
  {
   "cell_type": "code",
   "execution_count": 34,
   "metadata": {},
   "outputs": [
    {
     "data": {
      "text/html": [
       "<div>\n",
       "<style scoped>\n",
       "    .dataframe tbody tr th:only-of-type {\n",
       "        vertical-align: middle;\n",
       "    }\n",
       "\n",
       "    .dataframe tbody tr th {\n",
       "        vertical-align: top;\n",
       "    }\n",
       "\n",
       "    .dataframe thead th {\n",
       "        text-align: right;\n",
       "    }\n",
       "</style>\n",
       "<table border=\"1\" class=\"dataframe\">\n",
       "  <thead>\n",
       "    <tr style=\"text-align: right;\">\n",
       "      <th></th>\n",
       "      <th>Name</th>\n",
       "      <th>Instructor</th>\n",
       "      <th>Time</th>\n",
       "      <th>Number</th>\n",
       "      <th>Section</th>\n",
       "    </tr>\n",
       "  </thead>\n",
       "  <tbody>\n",
       "    <tr>\n",
       "      <th>0</th>\n",
       "      <td>PAC I*</td>\n",
       "      <td>CANCELLED</td>\n",
       "      <td>-</td>\n",
       "      <td>CSCI-GA.1133</td>\n",
       "      <td>001</td>\n",
       "    </tr>\n",
       "    <tr>\n",
       "      <th>1</th>\n",
       "      <td>PAC I Recitation</td>\n",
       "      <td>CANCELLED</td>\n",
       "      <td>-</td>\n",
       "      <td>CSCI-GA.1133</td>\n",
       "      <td>002</td>\n",
       "    </tr>\n",
       "    <tr>\n",
       "      <th>2</th>\n",
       "      <td>Fundamental Algorithms</td>\n",
       "      <td>Yevgeniy Dodis</td>\n",
       "      <td>T 4:55-6:55PM</td>\n",
       "      <td>CSCI-GA.1170</td>\n",
       "      <td>001</td>\n",
       "    </tr>\n",
       "    <tr>\n",
       "      <th>3</th>\n",
       "      <td>Fundamental Algorithms Recitation</td>\n",
       "      <td>Peter Hall</td>\n",
       "      <td>R 5:55-6:45PM</td>\n",
       "      <td>CSCI-GA.1170</td>\n",
       "      <td>002</td>\n",
       "    </tr>\n",
       "    <tr>\n",
       "      <th>4</th>\n",
       "      <td>Fundamental Algorithms</td>\n",
       "      <td>Ernest Davis</td>\n",
       "      <td>T 4:55-6:55PM</td>\n",
       "      <td>CSCI-GA.1170</td>\n",
       "      <td>003</td>\n",
       "    </tr>\n",
       "  </tbody>\n",
       "</table>\n",
       "</div>"
      ],
      "text/plain": [
       "                                Name      Instructor           Time  \\\n",
       "0                             PAC I*       CANCELLED              -   \n",
       "1                   PAC I Recitation       CANCELLED              -   \n",
       "2             Fundamental Algorithms  Yevgeniy Dodis  T 4:55-6:55PM   \n",
       "3  Fundamental Algorithms Recitation      Peter Hall  R 5:55-6:45PM   \n",
       "4             Fundamental Algorithms    Ernest Davis  T 4:55-6:55PM   \n",
       "\n",
       "         Number Section  \n",
       "0  CSCI-GA.1133     001  \n",
       "1  CSCI-GA.1133     002  \n",
       "2  CSCI-GA.1170     001  \n",
       "3  CSCI-GA.1170     002  \n",
       "4  CSCI-GA.1170     003  "
      ]
     },
     "execution_count": 34,
     "metadata": {},
     "output_type": "execute_result"
    }
   ],
   "source": [
    "#show the first 5 rows\n",
    "df.head(5)"
   ]
  },
  {
   "cell_type": "code",
   "execution_count": 35,
   "metadata": {},
   "outputs": [
    {
     "data": {
      "text/html": [
       "<div>\n",
       "<style scoped>\n",
       "    .dataframe tbody tr th:only-of-type {\n",
       "        vertical-align: middle;\n",
       "    }\n",
       "\n",
       "    .dataframe tbody tr th {\n",
       "        vertical-align: top;\n",
       "    }\n",
       "\n",
       "    .dataframe thead th {\n",
       "        text-align: right;\n",
       "    }\n",
       "</style>\n",
       "<table border=\"1\" class=\"dataframe\">\n",
       "  <thead>\n",
       "    <tr style=\"text-align: right;\">\n",
       "      <th></th>\n",
       "      <th>Name</th>\n",
       "      <th>Instructor</th>\n",
       "      <th>Time</th>\n",
       "      <th>Number</th>\n",
       "      <th>Section</th>\n",
       "    </tr>\n",
       "  </thead>\n",
       "  <tbody>\n",
       "    <tr>\n",
       "      <th>170</th>\n",
       "      <td>Special Topics: Agile Software Development and...</td>\n",
       "      <td>Amos Bloomberg</td>\n",
       "      <td>TR 12:30-1:45PM</td>\n",
       "      <td>CSCI-UA.0480</td>\n",
       "      <td>069</td>\n",
       "    </tr>\n",
       "    <tr>\n",
       "      <th>171</th>\n",
       "      <td>Special Topics: Introduction to Robot Intellig...</td>\n",
       "      <td>Lerrel Pinto</td>\n",
       "      <td>TR 3:30-4:45PM</td>\n",
       "      <td>CSCI-UA.0480</td>\n",
       "      <td>073</td>\n",
       "    </tr>\n",
       "    <tr>\n",
       "      <th>172</th>\n",
       "      <td>Undergraduate Research</td>\n",
       "      <td>STAFF</td>\n",
       "      <td>-</td>\n",
       "      <td>CSCI-UA.0520</td>\n",
       "      <td>001</td>\n",
       "    </tr>\n",
       "    <tr>\n",
       "      <th>173</th>\n",
       "      <td>Internship</td>\n",
       "      <td>STAFF</td>\n",
       "      <td>-</td>\n",
       "      <td>CSCI-UA.0897</td>\n",
       "      <td>001</td>\n",
       "    </tr>\n",
       "    <tr>\n",
       "      <th>174</th>\n",
       "      <td>Independent Study</td>\n",
       "      <td>STAFF</td>\n",
       "      <td>-</td>\n",
       "      <td>CSCI-UA.0997</td>\n",
       "      <td>001</td>\n",
       "    </tr>\n",
       "  </tbody>\n",
       "</table>\n",
       "</div>"
      ],
      "text/plain": [
       "                                                  Name      Instructor  \\\n",
       "170  Special Topics: Agile Software Development and...  Amos Bloomberg   \n",
       "171  Special Topics: Introduction to Robot Intellig...    Lerrel Pinto   \n",
       "172                             Undergraduate Research           STAFF   \n",
       "173                                         Internship           STAFF   \n",
       "174                                  Independent Study           STAFF   \n",
       "\n",
       "                Time        Number Section  \n",
       "170  TR 12:30-1:45PM  CSCI-UA.0480     069  \n",
       "171   TR 3:30-4:45PM  CSCI-UA.0480     073  \n",
       "172                -  CSCI-UA.0520     001  \n",
       "173                -  CSCI-UA.0897     001  \n",
       "174                -  CSCI-UA.0997     001  "
      ]
     },
     "execution_count": 35,
     "metadata": {},
     "output_type": "execute_result"
    }
   ],
   "source": [
    "#show the last 5 rows\n",
    "df.tail(5)"
   ]
  },
  {
   "cell_type": "code",
   "execution_count": 36,
   "metadata": {},
   "outputs": [
    {
     "data": {
      "text/html": [
       "<div>\n",
       "<style scoped>\n",
       "    .dataframe tbody tr th:only-of-type {\n",
       "        vertical-align: middle;\n",
       "    }\n",
       "\n",
       "    .dataframe tbody tr th {\n",
       "        vertical-align: top;\n",
       "    }\n",
       "\n",
       "    .dataframe thead th {\n",
       "        text-align: right;\n",
       "    }\n",
       "</style>\n",
       "<table border=\"1\" class=\"dataframe\">\n",
       "  <thead>\n",
       "    <tr style=\"text-align: right;\">\n",
       "      <th></th>\n",
       "      <th>Name</th>\n",
       "      <th>Instructor</th>\n",
       "      <th>Time</th>\n",
       "      <th>Number</th>\n",
       "      <th>Section</th>\n",
       "    </tr>\n",
       "  </thead>\n",
       "  <tbody>\n",
       "    <tr>\n",
       "      <th>149</th>\n",
       "      <td>Programming Tools for the Data Scientist</td>\n",
       "      <td>Hasan Aljabbouli</td>\n",
       "      <td>TR 3:30-4:45PM</td>\n",
       "      <td>CSCI-UA.0381</td>\n",
       "      <td>001</td>\n",
       "    </tr>\n",
       "    <tr>\n",
       "      <th>53</th>\n",
       "      <td>Special Topics: Quantum Computing</td>\n",
       "      <td>Nicholas Spooner</td>\n",
       "      <td>M 2:00-4:00PM</td>\n",
       "      <td>CSCI-GA.3033</td>\n",
       "      <td>103</td>\n",
       "    </tr>\n",
       "    <tr>\n",
       "      <th>142</th>\n",
       "      <td>Basic Algorithms</td>\n",
       "      <td>Alan  Siegel</td>\n",
       "      <td>MW 2:00-3:15PM</td>\n",
       "      <td>CSCI-UA.0310</td>\n",
       "      <td>003</td>\n",
       "    </tr>\n",
       "    <tr>\n",
       "      <th>132</th>\n",
       "      <td>Computer Systems Organization</td>\n",
       "      <td>Hasan Aljabbouli</td>\n",
       "      <td>TR 9:30-10:45AM</td>\n",
       "      <td>CSCI-UA.0201</td>\n",
       "      <td>003</td>\n",
       "    </tr>\n",
       "    <tr>\n",
       "      <th>165</th>\n",
       "      <td>Special Topics: Parallel Computing</td>\n",
       "      <td>Mohamed Zahran</td>\n",
       "      <td>TR 2:00-3:15PM</td>\n",
       "      <td>CSCI-UA.0480</td>\n",
       "      <td>051</td>\n",
       "    </tr>\n",
       "  </tbody>\n",
       "</table>\n",
       "</div>"
      ],
      "text/plain": [
       "                                         Name        Instructor  \\\n",
       "149  Programming Tools for the Data Scientist  Hasan Aljabbouli   \n",
       "53          Special Topics: Quantum Computing  Nicholas Spooner   \n",
       "142                          Basic Algorithms      Alan  Siegel   \n",
       "132             Computer Systems Organization  Hasan Aljabbouli   \n",
       "165        Special Topics: Parallel Computing    Mohamed Zahran   \n",
       "\n",
       "                Time        Number Section  \n",
       "149   TR 3:30-4:45PM  CSCI-UA.0381     001  \n",
       "53     M 2:00-4:00PM  CSCI-GA.3033     103  \n",
       "142   MW 2:00-3:15PM  CSCI-UA.0310     003  \n",
       "132  TR 9:30-10:45AM  CSCI-UA.0201     003  \n",
       "165   TR 2:00-3:15PM  CSCI-UA.0480     051  "
      ]
     },
     "execution_count": 36,
     "metadata": {},
     "output_type": "execute_result"
    }
   ],
   "source": [
    "#show a random sampling of 5 rows\n",
    "df.sample(5)"
   ]
  },
  {
   "cell_type": "markdown",
   "metadata": {},
   "source": [
    "# 2. Read the course catalog into a DataFrame"
   ]
  },
  {
   "cell_type": "code",
   "execution_count": 37,
   "metadata": {},
   "outputs": [],
   "source": [
    "from bs4 import BeautifulSoup\n",
    "\n",
    "# Load the HTML file\n",
    "with open('course_catalog.html', 'r') as f:\n",
    "    html_content_second = f.read()\n",
    "    \n",
    "# Create a BeautifulSoup object\n",
    "dom_second = BeautifulSoup(html_content_second, \"html.parser\")"
   ]
  },
  {
   "cell_type": "markdown",
   "metadata": {},
   "source": [
    "Let's check how many total courses we have listed:"
   ]
  },
  {
   "cell_type": "code",
   "execution_count": 38,
   "metadata": {},
   "outputs": [],
   "source": [
    "all_li = dom_second.select('.courses-listing > li')"
   ]
  },
  {
   "cell_type": "code",
   "execution_count": 39,
   "metadata": {},
   "outputs": [
    {
     "data": {
      "text/plain": [
       "96"
      ]
     },
     "execution_count": 39,
     "metadata": {},
     "output_type": "execute_result"
    }
   ],
   "source": [
    "len(all_li)"
   ]
  },
  {
   "cell_type": "markdown",
   "metadata": {},
   "source": [
    "**a. Extract Course number**"
   ]
  },
  {
   "cell_type": "code",
   "execution_count": 40,
   "metadata": {},
   "outputs": [],
   "source": [
    "p_courses = dom_second.select('.courses-listing > li > p:nth-child(1)')"
   ]
  },
  {
   "cell_type": "code",
   "execution_count": 41,
   "metadata": {},
   "outputs": [
    {
     "data": {
      "text/plain": [
       "96"
      ]
     },
     "execution_count": 41,
     "metadata": {},
     "output_type": "execute_result"
    }
   ],
   "source": [
    "len(p_courses)"
   ]
  },
  {
   "cell_type": "code",
   "execution_count": 42,
   "metadata": {},
   "outputs": [],
   "source": [
    "import re\n",
    "\n",
    "catalog_numbers = list()\n",
    "\n",
    "for course in p_courses:\n",
    "    whole_str = course.get_text().strip()\n",
    "    course_number = re.search('^\\w+\\-\\w{2}\\.\\d{4}',whole_str)\n",
    "    catalog_numbers.append(course_number[0])\n",
    "    "
   ]
  },
  {
   "cell_type": "code",
   "execution_count": 43,
   "metadata": {},
   "outputs": [
    {
     "data": {
      "text/plain": [
       "96"
      ]
     },
     "execution_count": 43,
     "metadata": {},
     "output_type": "execute_result"
    }
   ],
   "source": [
    "len(catalog_numbers)"
   ]
  },
  {
   "cell_type": "markdown",
   "metadata": {},
   "source": [
    "**b. Extract course prerequisites**"
   ]
  },
  {
   "cell_type": "code",
   "execution_count": 44,
   "metadata": {},
   "outputs": [],
   "source": [
    "p_prereqs = dom_second.select('.courses-listing > li > p:nth-child(3)')"
   ]
  },
  {
   "cell_type": "code",
   "execution_count": 45,
   "metadata": {},
   "outputs": [
    {
     "data": {
      "text/plain": [
       "96"
      ]
     },
     "execution_count": 45,
     "metadata": {},
     "output_type": "execute_result"
    }
   ],
   "source": [
    "len(p_prereqs)"
   ]
  },
  {
   "cell_type": "code",
   "execution_count": 46,
   "metadata": {},
   "outputs": [],
   "source": [
    "catalog_prereqs = list()\n",
    "\n",
    "for course in p_prereqs:\n",
    "    whole_str = course.get_text().strip()\n",
    "    #each string starts with 'Prerequisites: ', we need to get a substring that comes after it\n",
    "    course_prereqs = whole_str[15:]\n",
    "    catalog_prereqs.append(course_prereqs)\n",
    "    "
   ]
  },
  {
   "cell_type": "code",
   "execution_count": 47,
   "metadata": {},
   "outputs": [
    {
     "data": {
      "text/plain": [
       "96"
      ]
     },
     "execution_count": 47,
     "metadata": {},
     "output_type": "execute_result"
    }
   ],
   "source": [
    "len(catalog_prereqs)"
   ]
  },
  {
   "cell_type": "markdown",
   "metadata": {},
   "source": [
    "**c. Extract course points**"
   ]
  },
  {
   "cell_type": "code",
   "execution_count": 48,
   "metadata": {},
   "outputs": [],
   "source": [
    "p_points = dom_second.select('.courses-listing > li > p:nth-child(2)')"
   ]
  },
  {
   "cell_type": "code",
   "execution_count": 49,
   "metadata": {},
   "outputs": [
    {
     "data": {
      "text/plain": [
       "96"
      ]
     },
     "execution_count": 49,
     "metadata": {},
     "output_type": "execute_result"
    }
   ],
   "source": [
    "len(p_points)"
   ]
  },
  {
   "cell_type": "code",
   "execution_count": 50,
   "metadata": {},
   "outputs": [],
   "source": [
    "catalog_points = list()\n",
    "ctr = 0\n",
    "\n",
    "for course in p_points:\n",
    "    whole_str = course.get_text().strip()\n",
    "    #there are different patterns in which points are listed, so we will get a string that ends with 'Points', \n",
    "    #and then extract a substring from there that corresponds to the number of points\n",
    "    course_point = re.search('^.*Points',whole_str)\n",
    "    course_point_upd = course_point[0][:-7]    \n",
    "    catalog_points.append(course_point_upd)\n",
    "    "
   ]
  },
  {
   "cell_type": "code",
   "execution_count": 51,
   "metadata": {},
   "outputs": [
    {
     "data": {
      "text/plain": [
       "96"
      ]
     },
     "execution_count": 51,
     "metadata": {},
     "output_type": "execute_result"
    }
   ],
   "source": [
    "len(catalog_points)"
   ]
  },
  {
   "cell_type": "markdown",
   "metadata": {},
   "source": [
    "**d. Create a data frame**"
   ]
  },
  {
   "cell_type": "code",
   "execution_count": 52,
   "metadata": {},
   "outputs": [],
   "source": [
    "import pandas as pd\n",
    "\n",
    "# the list 'data' contains course number, prerequisites, and points in this order, respectively\n",
    "data_catalog = zip(catalog_numbers,catalog_prereqs,catalog_points)\n",
    "columns_catalog = ['Number','Prereqs','Points']\n",
    "\n",
    "df_catalog = pd.DataFrame(data_catalog, columns = columns_catalog)"
   ]
  },
  {
   "cell_type": "code",
   "execution_count": 53,
   "metadata": {},
   "outputs": [
    {
     "data": {
      "text/html": [
       "<div>\n",
       "<style scoped>\n",
       "    .dataframe tbody tr th:only-of-type {\n",
       "        vertical-align: middle;\n",
       "    }\n",
       "\n",
       "    .dataframe tbody tr th {\n",
       "        vertical-align: top;\n",
       "    }\n",
       "\n",
       "    .dataframe thead th {\n",
       "        text-align: right;\n",
       "    }\n",
       "</style>\n",
       "<table border=\"1\" class=\"dataframe\">\n",
       "  <thead>\n",
       "    <tr style=\"text-align: right;\">\n",
       "      <th></th>\n",
       "      <th>Number</th>\n",
       "      <th>Prereqs</th>\n",
       "      <th>Points</th>\n",
       "    </tr>\n",
       "  </thead>\n",
       "  <tbody>\n",
       "    <tr>\n",
       "      <th>0</th>\n",
       "      <td>CSCI-GA.1133</td>\n",
       "      <td>None</td>\n",
       "      <td>4</td>\n",
       "    </tr>\n",
       "    <tr>\n",
       "      <th>1</th>\n",
       "      <td>CSCI-GA.1144</td>\n",
       "      <td>CSCI-GA 1133 or departmental permission.</td>\n",
       "      <td>4</td>\n",
       "    </tr>\n",
       "    <tr>\n",
       "      <th>2</th>\n",
       "      <td>CSCI-GA.1170</td>\n",
       "      <td>At least one year of experience with a high-le...</td>\n",
       "      <td>3</td>\n",
       "    </tr>\n",
       "    <tr>\n",
       "      <th>3</th>\n",
       "      <td>CSCI-GA.1180</td>\n",
       "      <td>None</td>\n",
       "      <td>3</td>\n",
       "    </tr>\n",
       "    <tr>\n",
       "      <th>4</th>\n",
       "      <td>CSCI-GA.2110</td>\n",
       "      <td>Students taking this class should already have...</td>\n",
       "      <td>3</td>\n",
       "    </tr>\n",
       "    <tr>\n",
       "      <th>...</th>\n",
       "      <td>...</td>\n",
       "      <td>...</td>\n",
       "      <td>...</td>\n",
       "    </tr>\n",
       "    <tr>\n",
       "      <th>91</th>\n",
       "      <td>CSCI-UA.0897</td>\n",
       "      <td>Restricted to declared computer science majors...</td>\n",
       "      <td>1 - 4</td>\n",
       "    </tr>\n",
       "    <tr>\n",
       "      <th>92</th>\n",
       "      <td>CSCI-UA.0898</td>\n",
       "      <td>Restricted to declared computer science majors...</td>\n",
       "      <td>1 - 4</td>\n",
       "    </tr>\n",
       "    <tr>\n",
       "      <th>93</th>\n",
       "      <td>CSCI-UA.0997</td>\n",
       "      <td>Permission of the department. Does not satisfy...</td>\n",
       "      <td>1 - 4</td>\n",
       "    </tr>\n",
       "    <tr>\n",
       "      <th>94</th>\n",
       "      <td>CSCI-UA.0998</td>\n",
       "      <td>Permission of the department. Does not satisfy...</td>\n",
       "      <td>1 - 4</td>\n",
       "    </tr>\n",
       "    <tr>\n",
       "      <th>95</th>\n",
       "      <td>FRSEM-UA.0597</td>\n",
       "      <td>Some programming experience in Python, Java, J...</td>\n",
       "      <td>4</td>\n",
       "    </tr>\n",
       "  </tbody>\n",
       "</table>\n",
       "<p>96 rows × 3 columns</p>\n",
       "</div>"
      ],
      "text/plain": [
       "           Number                                            Prereqs Points\n",
       "0    CSCI-GA.1133                                               None      4\n",
       "1    CSCI-GA.1144           CSCI-GA 1133 or departmental permission.      4\n",
       "2    CSCI-GA.1170  At least one year of experience with a high-le...      3\n",
       "3    CSCI-GA.1180                                               None      3\n",
       "4    CSCI-GA.2110  Students taking this class should already have...      3\n",
       "..            ...                                                ...    ...\n",
       "91   CSCI-UA.0897  Restricted to declared computer science majors...  1 - 4\n",
       "92   CSCI-UA.0898  Restricted to declared computer science majors...  1 - 4\n",
       "93   CSCI-UA.0997  Permission of the department. Does not satisfy...  1 - 4\n",
       "94   CSCI-UA.0998  Permission of the department. Does not satisfy...  1 - 4\n",
       "95  FRSEM-UA.0597  Some programming experience in Python, Java, J...      4\n",
       "\n",
       "[96 rows x 3 columns]"
      ]
     },
     "execution_count": 53,
     "metadata": {},
     "output_type": "execute_result"
    }
   ],
   "source": [
    "df_catalog"
   ]
  },
  {
   "cell_type": "markdown",
   "metadata": {},
   "source": [
    "**c. Show some dataframe information**"
   ]
  },
  {
   "cell_type": "code",
   "execution_count": 54,
   "metadata": {},
   "outputs": [
    {
     "name": "stdout",
     "output_type": "stream",
     "text": [
      "<class 'pandas.core.frame.DataFrame'>\n",
      "RangeIndex: 96 entries, 0 to 95\n",
      "Data columns (total 3 columns):\n",
      " #   Column   Non-Null Count  Dtype \n",
      "---  ------   --------------  ----- \n",
      " 0   Number   96 non-null     object\n",
      " 1   Prereqs  96 non-null     object\n",
      " 2   Points   96 non-null     object\n",
      "dtypes: object(3)\n",
      "memory usage: 2.4+ KB\n"
     ]
    }
   ],
   "source": [
    "#show info about the data types and counts\n",
    "df_catalog.info()"
   ]
  },
  {
   "cell_type": "code",
   "execution_count": 55,
   "metadata": {},
   "outputs": [
    {
     "data": {
      "text/html": [
       "<div>\n",
       "<style scoped>\n",
       "    .dataframe tbody tr th:only-of-type {\n",
       "        vertical-align: middle;\n",
       "    }\n",
       "\n",
       "    .dataframe tbody tr th {\n",
       "        vertical-align: top;\n",
       "    }\n",
       "\n",
       "    .dataframe thead th {\n",
       "        text-align: right;\n",
       "    }\n",
       "</style>\n",
       "<table border=\"1\" class=\"dataframe\">\n",
       "  <thead>\n",
       "    <tr style=\"text-align: right;\">\n",
       "      <th></th>\n",
       "      <th>Number</th>\n",
       "      <th>Prereqs</th>\n",
       "      <th>Points</th>\n",
       "    </tr>\n",
       "  </thead>\n",
       "  <tbody>\n",
       "    <tr>\n",
       "      <th>0</th>\n",
       "      <td>CSCI-GA.1133</td>\n",
       "      <td>None</td>\n",
       "      <td>4</td>\n",
       "    </tr>\n",
       "    <tr>\n",
       "      <th>1</th>\n",
       "      <td>CSCI-GA.1144</td>\n",
       "      <td>CSCI-GA 1133 or departmental permission.</td>\n",
       "      <td>4</td>\n",
       "    </tr>\n",
       "    <tr>\n",
       "      <th>2</th>\n",
       "      <td>CSCI-GA.1170</td>\n",
       "      <td>At least one year of experience with a high-le...</td>\n",
       "      <td>3</td>\n",
       "    </tr>\n",
       "    <tr>\n",
       "      <th>3</th>\n",
       "      <td>CSCI-GA.1180</td>\n",
       "      <td>None</td>\n",
       "      <td>3</td>\n",
       "    </tr>\n",
       "    <tr>\n",
       "      <th>4</th>\n",
       "      <td>CSCI-GA.2110</td>\n",
       "      <td>Students taking this class should already have...</td>\n",
       "      <td>3</td>\n",
       "    </tr>\n",
       "  </tbody>\n",
       "</table>\n",
       "</div>"
      ],
      "text/plain": [
       "         Number                                            Prereqs Points\n",
       "0  CSCI-GA.1133                                               None      4\n",
       "1  CSCI-GA.1144           CSCI-GA 1133 or departmental permission.      4\n",
       "2  CSCI-GA.1170  At least one year of experience with a high-le...      3\n",
       "3  CSCI-GA.1180                                               None      3\n",
       "4  CSCI-GA.2110  Students taking this class should already have...      3"
      ]
     },
     "execution_count": 55,
     "metadata": {},
     "output_type": "execute_result"
    }
   ],
   "source": [
    "#show the first 5 rows\n",
    "df_catalog.head(5)"
   ]
  },
  {
   "cell_type": "code",
   "execution_count": 56,
   "metadata": {},
   "outputs": [
    {
     "data": {
      "text/html": [
       "<div>\n",
       "<style scoped>\n",
       "    .dataframe tbody tr th:only-of-type {\n",
       "        vertical-align: middle;\n",
       "    }\n",
       "\n",
       "    .dataframe tbody tr th {\n",
       "        vertical-align: top;\n",
       "    }\n",
       "\n",
       "    .dataframe thead th {\n",
       "        text-align: right;\n",
       "    }\n",
       "</style>\n",
       "<table border=\"1\" class=\"dataframe\">\n",
       "  <thead>\n",
       "    <tr style=\"text-align: right;\">\n",
       "      <th></th>\n",
       "      <th>Number</th>\n",
       "      <th>Prereqs</th>\n",
       "      <th>Points</th>\n",
       "    </tr>\n",
       "  </thead>\n",
       "  <tbody>\n",
       "    <tr>\n",
       "      <th>91</th>\n",
       "      <td>CSCI-UA.0897</td>\n",
       "      <td>Restricted to declared computer science majors...</td>\n",
       "      <td>1 - 4</td>\n",
       "    </tr>\n",
       "    <tr>\n",
       "      <th>92</th>\n",
       "      <td>CSCI-UA.0898</td>\n",
       "      <td>Restricted to declared computer science majors...</td>\n",
       "      <td>1 - 4</td>\n",
       "    </tr>\n",
       "    <tr>\n",
       "      <th>93</th>\n",
       "      <td>CSCI-UA.0997</td>\n",
       "      <td>Permission of the department. Does not satisfy...</td>\n",
       "      <td>1 - 4</td>\n",
       "    </tr>\n",
       "    <tr>\n",
       "      <th>94</th>\n",
       "      <td>CSCI-UA.0998</td>\n",
       "      <td>Permission of the department. Does not satisfy...</td>\n",
       "      <td>1 - 4</td>\n",
       "    </tr>\n",
       "    <tr>\n",
       "      <th>95</th>\n",
       "      <td>FRSEM-UA.0597</td>\n",
       "      <td>Some programming experience in Python, Java, J...</td>\n",
       "      <td>4</td>\n",
       "    </tr>\n",
       "  </tbody>\n",
       "</table>\n",
       "</div>"
      ],
      "text/plain": [
       "           Number                                            Prereqs Points\n",
       "91   CSCI-UA.0897  Restricted to declared computer science majors...  1 - 4\n",
       "92   CSCI-UA.0898  Restricted to declared computer science majors...  1 - 4\n",
       "93   CSCI-UA.0997  Permission of the department. Does not satisfy...  1 - 4\n",
       "94   CSCI-UA.0998  Permission of the department. Does not satisfy...  1 - 4\n",
       "95  FRSEM-UA.0597  Some programming experience in Python, Java, J...      4"
      ]
     },
     "execution_count": 56,
     "metadata": {},
     "output_type": "execute_result"
    }
   ],
   "source": [
    "#show the last 5 rows\n",
    "df_catalog.tail(5)"
   ]
  },
  {
   "cell_type": "code",
   "execution_count": 57,
   "metadata": {},
   "outputs": [
    {
     "data": {
      "text/html": [
       "<div>\n",
       "<style scoped>\n",
       "    .dataframe tbody tr th:only-of-type {\n",
       "        vertical-align: middle;\n",
       "    }\n",
       "\n",
       "    .dataframe tbody tr th {\n",
       "        vertical-align: top;\n",
       "    }\n",
       "\n",
       "    .dataframe thead th {\n",
       "        text-align: right;\n",
       "    }\n",
       "</style>\n",
       "<table border=\"1\" class=\"dataframe\">\n",
       "  <thead>\n",
       "    <tr style=\"text-align: right;\">\n",
       "      <th></th>\n",
       "      <th>Number</th>\n",
       "      <th>Prereqs</th>\n",
       "      <th>Points</th>\n",
       "    </tr>\n",
       "  </thead>\n",
       "  <tbody>\n",
       "    <tr>\n",
       "      <th>18</th>\n",
       "      <td>CSCI-GA.2433</td>\n",
       "      <td>None</td>\n",
       "      <td>3</td>\n",
       "    </tr>\n",
       "    <tr>\n",
       "      <th>54</th>\n",
       "      <td>CSCI-GA.3520</td>\n",
       "      <td>Permission of the instructor for master’s stud...</td>\n",
       "      <td>4</td>\n",
       "    </tr>\n",
       "    <tr>\n",
       "      <th>40</th>\n",
       "      <td>CSCI-GA.2840</td>\n",
       "      <td>None</td>\n",
       "      <td>3</td>\n",
       "    </tr>\n",
       "    <tr>\n",
       "      <th>62</th>\n",
       "      <td>CORE-UA.0109</td>\n",
       "      <td>Department Permission</td>\n",
       "      <td>4</td>\n",
       "    </tr>\n",
       "    <tr>\n",
       "      <th>76</th>\n",
       "      <td>CSCI-UA.0421</td>\n",
       "      <td>Computer Systems Organization (CSCI-UA 201), e...</td>\n",
       "      <td>4</td>\n",
       "    </tr>\n",
       "  </tbody>\n",
       "</table>\n",
       "</div>"
      ],
      "text/plain": [
       "          Number                                            Prereqs Points\n",
       "18  CSCI-GA.2433                                               None      3\n",
       "54  CSCI-GA.3520  Permission of the instructor for master’s stud...      4\n",
       "40  CSCI-GA.2840                                               None      3\n",
       "62  CORE-UA.0109                              Department Permission      4\n",
       "76  CSCI-UA.0421  Computer Systems Organization (CSCI-UA 201), e...      4"
      ]
     },
     "execution_count": 57,
     "metadata": {},
     "output_type": "execute_result"
    }
   ],
   "source": [
    "#show a random sampling of 5 rows\n",
    "df_catalog.sample(5)"
   ]
  },
  {
   "cell_type": "markdown",
   "metadata": {},
   "source": [
    "# 3. Put together both DataFrames"
   ]
  },
  {
   "cell_type": "code",
   "execution_count": 58,
   "metadata": {},
   "outputs": [],
   "source": [
    "# we need to keep all the rows from df because course catalog has some courses that are \n",
    "# not listed in the course schedule for this semester, and we need to show show all scheduled classes for this semester\n",
    "new_df = pd.merge(df, df_catalog, on='Number', how = 'left')\n",
    "\n",
    "new_cols = [\"Number\",\"Name\",\"Instructor\",\"Time\",\"Prereqs\",\"Points\"]\n",
    "new_df = new_df.reindex(columns=new_cols)"
   ]
  },
  {
   "cell_type": "code",
   "execution_count": 59,
   "metadata": {},
   "outputs": [
    {
     "data": {
      "text/html": [
       "<div>\n",
       "<style scoped>\n",
       "    .dataframe tbody tr th:only-of-type {\n",
       "        vertical-align: middle;\n",
       "    }\n",
       "\n",
       "    .dataframe tbody tr th {\n",
       "        vertical-align: top;\n",
       "    }\n",
       "\n",
       "    .dataframe thead th {\n",
       "        text-align: right;\n",
       "    }\n",
       "</style>\n",
       "<table border=\"1\" class=\"dataframe\">\n",
       "  <thead>\n",
       "    <tr style=\"text-align: right;\">\n",
       "      <th></th>\n",
       "      <th>Number</th>\n",
       "      <th>Name</th>\n",
       "      <th>Instructor</th>\n",
       "      <th>Time</th>\n",
       "      <th>Prereqs</th>\n",
       "      <th>Points</th>\n",
       "    </tr>\n",
       "  </thead>\n",
       "  <tbody>\n",
       "    <tr>\n",
       "      <th>0</th>\n",
       "      <td>CSCI-GA.1133</td>\n",
       "      <td>PAC I*</td>\n",
       "      <td>CANCELLED</td>\n",
       "      <td>-</td>\n",
       "      <td>None</td>\n",
       "      <td>4</td>\n",
       "    </tr>\n",
       "    <tr>\n",
       "      <th>1</th>\n",
       "      <td>CSCI-GA.1133</td>\n",
       "      <td>PAC I Recitation</td>\n",
       "      <td>CANCELLED</td>\n",
       "      <td>-</td>\n",
       "      <td>None</td>\n",
       "      <td>4</td>\n",
       "    </tr>\n",
       "    <tr>\n",
       "      <th>2</th>\n",
       "      <td>CSCI-GA.1170</td>\n",
       "      <td>Fundamental Algorithms</td>\n",
       "      <td>Yevgeniy Dodis</td>\n",
       "      <td>T 4:55-6:55PM</td>\n",
       "      <td>At least one year of experience with a high-le...</td>\n",
       "      <td>3</td>\n",
       "    </tr>\n",
       "    <tr>\n",
       "      <th>3</th>\n",
       "      <td>CSCI-GA.1170</td>\n",
       "      <td>Fundamental Algorithms Recitation</td>\n",
       "      <td>Peter Hall</td>\n",
       "      <td>R 5:55-6:45PM</td>\n",
       "      <td>At least one year of experience with a high-le...</td>\n",
       "      <td>3</td>\n",
       "    </tr>\n",
       "    <tr>\n",
       "      <th>4</th>\n",
       "      <td>CSCI-GA.1170</td>\n",
       "      <td>Fundamental Algorithms</td>\n",
       "      <td>Ernest Davis</td>\n",
       "      <td>T 4:55-6:55PM</td>\n",
       "      <td>At least one year of experience with a high-le...</td>\n",
       "      <td>3</td>\n",
       "    </tr>\n",
       "    <tr>\n",
       "      <th>...</th>\n",
       "      <td>...</td>\n",
       "      <td>...</td>\n",
       "      <td>...</td>\n",
       "      <td>...</td>\n",
       "      <td>...</td>\n",
       "      <td>...</td>\n",
       "    </tr>\n",
       "    <tr>\n",
       "      <th>170</th>\n",
       "      <td>CSCI-UA.0480</td>\n",
       "      <td>Special Topics: Agile Software Development and...</td>\n",
       "      <td>Amos Bloomberg</td>\n",
       "      <td>TR 12:30-1:45PM</td>\n",
       "      <td>Topics determine prerequisites.</td>\n",
       "      <td>4</td>\n",
       "    </tr>\n",
       "    <tr>\n",
       "      <th>171</th>\n",
       "      <td>CSCI-UA.0480</td>\n",
       "      <td>Special Topics: Introduction to Robot Intellig...</td>\n",
       "      <td>Lerrel Pinto</td>\n",
       "      <td>TR 3:30-4:45PM</td>\n",
       "      <td>Topics determine prerequisites.</td>\n",
       "      <td>4</td>\n",
       "    </tr>\n",
       "    <tr>\n",
       "      <th>172</th>\n",
       "      <td>CSCI-UA.0520</td>\n",
       "      <td>Undergraduate Research</td>\n",
       "      <td>STAFF</td>\n",
       "      <td>-</td>\n",
       "      <td>Permission of the department.</td>\n",
       "      <td>4</td>\n",
       "    </tr>\n",
       "    <tr>\n",
       "      <th>173</th>\n",
       "      <td>CSCI-UA.0897</td>\n",
       "      <td>Internship</td>\n",
       "      <td>STAFF</td>\n",
       "      <td>-</td>\n",
       "      <td>Restricted to declared computer science majors...</td>\n",
       "      <td>1 - 4</td>\n",
       "    </tr>\n",
       "    <tr>\n",
       "      <th>174</th>\n",
       "      <td>CSCI-UA.0997</td>\n",
       "      <td>Independent Study</td>\n",
       "      <td>STAFF</td>\n",
       "      <td>-</td>\n",
       "      <td>Permission of the department. Does not satisfy...</td>\n",
       "      <td>1 - 4</td>\n",
       "    </tr>\n",
       "  </tbody>\n",
       "</table>\n",
       "<p>175 rows × 6 columns</p>\n",
       "</div>"
      ],
      "text/plain": [
       "           Number                                               Name  \\\n",
       "0    CSCI-GA.1133                                             PAC I*   \n",
       "1    CSCI-GA.1133                                   PAC I Recitation   \n",
       "2    CSCI-GA.1170                             Fundamental Algorithms   \n",
       "3    CSCI-GA.1170                  Fundamental Algorithms Recitation   \n",
       "4    CSCI-GA.1170                             Fundamental Algorithms   \n",
       "..            ...                                                ...   \n",
       "170  CSCI-UA.0480  Special Topics: Agile Software Development and...   \n",
       "171  CSCI-UA.0480  Special Topics: Introduction to Robot Intellig...   \n",
       "172  CSCI-UA.0520                             Undergraduate Research   \n",
       "173  CSCI-UA.0897                                         Internship   \n",
       "174  CSCI-UA.0997                                  Independent Study   \n",
       "\n",
       "         Instructor             Time  \\\n",
       "0         CANCELLED                -   \n",
       "1         CANCELLED                -   \n",
       "2    Yevgeniy Dodis    T 4:55-6:55PM   \n",
       "3        Peter Hall    R 5:55-6:45PM   \n",
       "4      Ernest Davis    T 4:55-6:55PM   \n",
       "..              ...              ...   \n",
       "170  Amos Bloomberg  TR 12:30-1:45PM   \n",
       "171    Lerrel Pinto   TR 3:30-4:45PM   \n",
       "172           STAFF                -   \n",
       "173           STAFF                -   \n",
       "174           STAFF                -   \n",
       "\n",
       "                                               Prereqs Points  \n",
       "0                                                 None      4  \n",
       "1                                                 None      4  \n",
       "2    At least one year of experience with a high-le...      3  \n",
       "3    At least one year of experience with a high-le...      3  \n",
       "4    At least one year of experience with a high-le...      3  \n",
       "..                                                 ...    ...  \n",
       "170                    Topics determine prerequisites.      4  \n",
       "171                    Topics determine prerequisites.      4  \n",
       "172                      Permission of the department.      4  \n",
       "173  Restricted to declared computer science majors...  1 - 4  \n",
       "174  Permission of the department. Does not satisfy...  1 - 4  \n",
       "\n",
       "[175 rows x 6 columns]"
      ]
     },
     "execution_count": 59,
     "metadata": {},
     "output_type": "execute_result"
    }
   ],
   "source": [
    "new_df"
   ]
  },
  {
   "cell_type": "markdown",
   "metadata": {},
   "source": [
    "# 4. Conclusion"
   ]
  },
  {
   "cell_type": "markdown",
   "metadata": {},
   "source": [
    "When working with the Course Schedule, there were few anomalies with the data that are as follows:\n",
    "\n",
    "- Some courses had more than one course number. Usually, the second course numbers indicate that that particular course can be double-counted as the course from other department, and they have a different pattern than 'CSCI...'; To deal with it, I extracted only the main course number that corresponded to CSCI pattern.\n",
    "- Some course names had trailing newline characters and space characters in between strings; To fix it, I replaced all of them with a space.\n",
    "- Some courses had more than one instructors; To deal with it, I concatenated all the names in one string using comma as a separator after each full name. \n",
    "- Some courses had missing values for meeting times which was indicated with a dash '-' in the website, I left them as it is."
   ]
  },
  {
   "cell_type": "markdown",
   "metadata": {},
   "source": [
    "When working with the Course Catalog, the anomalies I encountered were:\n",
    "\n",
    "- There were few courses that didn't have CSCI markings on the course number, so I adjusted my searching criteria accordingly to include all the courses.\n",
    "- There were a lot of different patterns in which points were listed: some had only 1 point, some - a range of points, some - different points based on which degree the person is studying for, and so on. To deal with it, I extracted a string that ends with 'Points', and then extracted a substring from it that corresponded to the number of points."
   ]
  },
  {
   "cell_type": "markdown",
   "metadata": {},
   "source": [
    "Setting `how` to `left` when merging dataframes includes all keys from the first (left) DataFrame, even if they don't exist in second. I decided to include all the keys from the dataframe `df` obtained from reading the course schedule because the course catalog has some courses that are not listed in the course schedule for this semester. If you change the dataframes' order such that dataframe `df_catalog` will be on the left, the resulting dataframe obtained will contain 213 rows which doesn't match with the number of courses offered in the course schedule for this semester."
   ]
  },
  {
   "cell_type": "code",
   "execution_count": null,
   "metadata": {},
   "outputs": [],
   "source": []
  }
 ],
 "metadata": {
  "kernelspec": {
   "display_name": "Python 3 (ipykernel)",
   "language": "python",
   "name": "python3"
  },
  "language_info": {
   "codemirror_mode": {
    "name": "ipython",
    "version": 3
   },
   "file_extension": ".py",
   "mimetype": "text/x-python",
   "name": "python",
   "nbconvert_exporter": "python",
   "pygments_lexer": "ipython3",
   "version": "3.9.13"
  }
 },
 "nbformat": 4,
 "nbformat_minor": 4
}
